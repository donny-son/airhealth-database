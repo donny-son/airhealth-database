{
 "cells": [
  {
   "cell_type": "code",
   "execution_count": 56,
   "metadata": {},
   "outputs": [],
   "source": [
    "import geopandas as gpd\n",
    "import pandas as pd"
   ]
  },
  {
   "cell_type": "code",
   "execution_count": 57,
   "metadata": {},
   "outputs": [],
   "source": [
    "df = pd.read_csv('./assets/locations.csv')"
   ]
  },
  {
   "cell_type": "code",
   "execution_count": 58,
   "metadata": {},
   "outputs": [
    {
     "data": {
      "text/html": [
       "<div>\n",
       "<style scoped>\n",
       "    .dataframe tbody tr th:only-of-type {\n",
       "        vertical-align: middle;\n",
       "    }\n",
       "\n",
       "    .dataframe tbody tr th {\n",
       "        vertical-align: top;\n",
       "    }\n",
       "\n",
       "    .dataframe thead th {\n",
       "        text-align: right;\n",
       "    }\n",
       "</style>\n",
       "<table border=\"1\" class=\"dataframe\">\n",
       "  <thead>\n",
       "    <tr style=\"text-align: right;\">\n",
       "      <th></th>\n",
       "      <th>0</th>\n",
       "    </tr>\n",
       "  </thead>\n",
       "  <tbody>\n",
       "    <tr>\n",
       "      <th>ID</th>\n",
       "      <td>111121</td>\n",
       "    </tr>\n",
       "    <tr>\n",
       "      <th>ID_nm</th>\n",
       "      <td>NaN</td>\n",
       "    </tr>\n",
       "    <tr>\n",
       "      <th>CODE</th>\n",
       "      <td>A</td>\n",
       "    </tr>\n",
       "    <tr>\n",
       "      <th>SD_nm_rev</th>\n",
       "      <td>서울</td>\n",
       "    </tr>\n",
       "    <tr>\n",
       "      <th>ADD</th>\n",
       "      <td>서울 중구 덕수궁길 15</td>\n",
       "    </tr>\n",
       "    <tr>\n",
       "      <th>SGG_cd_rev</th>\n",
       "      <td>11020</td>\n",
       "    </tr>\n",
       "    <tr>\n",
       "      <th>SGG_nm_rev</th>\n",
       "      <td>중구</td>\n",
       "    </tr>\n",
       "    <tr>\n",
       "      <th>HEMD_cd</th>\n",
       "      <td>1114052000</td>\n",
       "    </tr>\n",
       "    <tr>\n",
       "      <th>HEMD_cd2</th>\n",
       "      <td>1102052.0</td>\n",
       "    </tr>\n",
       "    <tr>\n",
       "      <th>HEMD_nm</th>\n",
       "      <td>소공동</td>\n",
       "    </tr>\n",
       "    <tr>\n",
       "      <th>BEMD_cd</th>\n",
       "      <td>1114016600</td>\n",
       "    </tr>\n",
       "    <tr>\n",
       "      <th>BEMD_nm</th>\n",
       "      <td>서소문동</td>\n",
       "    </tr>\n",
       "    <tr>\n",
       "      <th>WGS_X_rev</th>\n",
       "      <td>126.974501</td>\n",
       "    </tr>\n",
       "    <tr>\n",
       "      <th>WGS_Y_rev</th>\n",
       "      <td>37.564228</td>\n",
       "    </tr>\n",
       "    <tr>\n",
       "      <th>yr_2001</th>\n",
       "      <td>0</td>\n",
       "    </tr>\n",
       "    <tr>\n",
       "      <th>yr_2002</th>\n",
       "      <td>0</td>\n",
       "    </tr>\n",
       "    <tr>\n",
       "      <th>yr_2003</th>\n",
       "      <td>0</td>\n",
       "    </tr>\n",
       "    <tr>\n",
       "      <th>yr_2004</th>\n",
       "      <td>0</td>\n",
       "    </tr>\n",
       "    <tr>\n",
       "      <th>yr_2005</th>\n",
       "      <td>1</td>\n",
       "    </tr>\n",
       "    <tr>\n",
       "      <th>yr_2006</th>\n",
       "      <td>1</td>\n",
       "    </tr>\n",
       "    <tr>\n",
       "      <th>yr_2007</th>\n",
       "      <td>1</td>\n",
       "    </tr>\n",
       "    <tr>\n",
       "      <th>yr_2008</th>\n",
       "      <td>1</td>\n",
       "    </tr>\n",
       "    <tr>\n",
       "      <th>yr_2009</th>\n",
       "      <td>1</td>\n",
       "    </tr>\n",
       "    <tr>\n",
       "      <th>yr_2010</th>\n",
       "      <td>1</td>\n",
       "    </tr>\n",
       "    <tr>\n",
       "      <th>yr_2011</th>\n",
       "      <td>1</td>\n",
       "    </tr>\n",
       "    <tr>\n",
       "      <th>yr_2012</th>\n",
       "      <td>1</td>\n",
       "    </tr>\n",
       "    <tr>\n",
       "      <th>yr_2013</th>\n",
       "      <td>1</td>\n",
       "    </tr>\n",
       "    <tr>\n",
       "      <th>yr_2014</th>\n",
       "      <td>1</td>\n",
       "    </tr>\n",
       "    <tr>\n",
       "      <th>yr_2015</th>\n",
       "      <td>1</td>\n",
       "    </tr>\n",
       "    <tr>\n",
       "      <th>yr_2016</th>\n",
       "      <td>1</td>\n",
       "    </tr>\n",
       "    <tr>\n",
       "      <th>yr_2017</th>\n",
       "      <td>1</td>\n",
       "    </tr>\n",
       "    <tr>\n",
       "      <th>yr_2018</th>\n",
       "      <td>1</td>\n",
       "    </tr>\n",
       "    <tr>\n",
       "      <th>yr_2019</th>\n",
       "      <td>1</td>\n",
       "    </tr>\n",
       "    <tr>\n",
       "      <th>yr_2020</th>\n",
       "      <td>1</td>\n",
       "    </tr>\n",
       "  </tbody>\n",
       "</table>\n",
       "</div>"
      ],
      "text/plain": [
       "                         0\n",
       "ID                  111121\n",
       "ID_nm                  NaN\n",
       "CODE                     A\n",
       "SD_nm_rev               서울\n",
       "ADD         서울 중구 덕수궁길 15 \n",
       "SGG_cd_rev           11020\n",
       "SGG_nm_rev              중구\n",
       "HEMD_cd         1114052000\n",
       "HEMD_cd2         1102052.0\n",
       "HEMD_nm                소공동\n",
       "BEMD_cd         1114016600\n",
       "BEMD_nm               서소문동\n",
       "WGS_X_rev       126.974501\n",
       "WGS_Y_rev        37.564228\n",
       "yr_2001                  0\n",
       "yr_2002                  0\n",
       "yr_2003                  0\n",
       "yr_2004                  0\n",
       "yr_2005                  1\n",
       "yr_2006                  1\n",
       "yr_2007                  1\n",
       "yr_2008                  1\n",
       "yr_2009                  1\n",
       "yr_2010                  1\n",
       "yr_2011                  1\n",
       "yr_2012                  1\n",
       "yr_2013                  1\n",
       "yr_2014                  1\n",
       "yr_2015                  1\n",
       "yr_2016                  1\n",
       "yr_2017                  1\n",
       "yr_2018                  1\n",
       "yr_2019                  1\n",
       "yr_2020                  1"
      ]
     },
     "execution_count": 58,
     "metadata": {},
     "output_type": "execute_result"
    }
   ],
   "source": [
    "df.head(1).T"
   ]
  },
  {
   "cell_type": "code",
   "execution_count": 59,
   "metadata": {},
   "outputs": [],
   "source": [
    "df['year'] = None"
   ]
  },
  {
   "cell_type": "code",
   "execution_count": 60,
   "metadata": {},
   "outputs": [
    {
     "data": {
      "text/plain": [
       "(682, 35)"
      ]
     },
     "execution_count": 60,
     "metadata": {},
     "output_type": "execute_result"
    }
   ],
   "source": [
    "out_df = df\n",
    "year_range = range(2001, 2021)\n",
    "for year in year_range:\n",
    "    out_df.append(df)\n",
    "\n",
    "out_df.shape"
   ]
  },
  {
   "cell_type": "code",
   "execution_count": 61,
   "metadata": {},
   "outputs": [
    {
     "data": {
      "text/plain": [
       "13640"
      ]
     },
     "execution_count": 61,
     "metadata": {},
     "output_type": "execute_result"
    }
   ],
   "source": [
    "df.shape\n",
    "682 * 20\n"
   ]
  },
  {
   "cell_type": "code",
   "execution_count": null,
   "metadata": {},
   "outputs": [],
   "source": [
    "for row_idx, row in df.iterrows():\n",
    "    for year in year_range:\n",
    "        if row[f'yr_{year}'] == 1:\n",
    "            df.iloc[row_idx]['year'] = year\n"
   ]
  },
  {
   "cell_type": "code",
   "execution_count": 25,
   "metadata": {},
   "outputs": [
    {
     "data": {
      "text/plain": [
       "0"
      ]
     },
     "execution_count": 25,
     "metadata": {},
     "output_type": "execute_result"
    }
   ],
   "source": [
    "row['yr_2001']"
   ]
  },
  {
   "cell_type": "code",
   "execution_count": 23,
   "metadata": {},
   "outputs": [
    {
     "data": {
      "text/plain": [
       "pandas.core.series.Series"
      ]
     },
     "execution_count": 23,
     "metadata": {},
     "output_type": "execute_result"
    }
   ],
   "source": [
    "type(row)"
   ]
  },
  {
   "cell_type": "code",
   "execution_count": 29,
   "metadata": {},
   "outputs": [
    {
     "data": {
      "text/plain": [
       "1"
      ]
     },
     "execution_count": 29,
     "metadata": {},
     "output_type": "execute_result"
    }
   ],
   "source": [
    "df.iloc[0]['yr_2010']"
   ]
  },
  {
   "cell_type": "code",
   "execution_count": null,
   "metadata": {},
   "outputs": [],
   "source": []
  }
 ],
 "metadata": {
  "interpreter": {
   "hash": "45758d59e9bdb6af8ba0d29d08a9e82b57b41dda9d1f378e25664ac378f774c1"
  },
  "kernelspec": {
   "display_name": "Python 3.9.7 64-bit ('geopython': conda)",
   "language": "python",
   "name": "python3"
  },
  "language_info": {
   "codemirror_mode": {
    "name": "ipython",
    "version": 3
   },
   "file_extension": ".py",
   "mimetype": "text/x-python",
   "name": "python",
   "nbconvert_exporter": "python",
   "pygments_lexer": "ipython3",
   "version": "3.9.7"
  },
  "orig_nbformat": 4
 },
 "nbformat": 4,
 "nbformat_minor": 2
}
