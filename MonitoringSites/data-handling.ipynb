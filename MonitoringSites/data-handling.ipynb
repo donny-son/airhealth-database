{
 "cells": [
  {
   "cell_type": "markdown",
   "metadata": {},
   "source": [
    "Objective: change original xlsx file to long format"
   ]
  },
  {
   "cell_type": "code",
   "execution_count": 5,
   "metadata": {},
   "outputs": [],
   "source": [
    "import pandas as pd"
   ]
  },
  {
   "cell_type": "code",
   "execution_count": 21,
   "metadata": {},
   "outputs": [],
   "source": [
    "df = pd.read_excel('./raw/new_MS_2001-2019.xlsx')\n",
    "listOfDict = df.to_dict('records')"
   ]
  },
  {
   "cell_type": "code",
   "execution_count": 7,
   "metadata": {},
   "outputs": [
    {
     "data": {
      "text/html": [
       "<div>\n",
       "<style scoped>\n",
       "    .dataframe tbody tr th:only-of-type {\n",
       "        vertical-align: middle;\n",
       "    }\n",
       "\n",
       "    .dataframe tbody tr th {\n",
       "        vertical-align: top;\n",
       "    }\n",
       "\n",
       "    .dataframe thead th {\n",
       "        text-align: right;\n",
       "    }\n",
       "</style>\n",
       "<table border=\"1\" class=\"dataframe\">\n",
       "  <thead>\n",
       "    <tr style=\"text-align: right;\">\n",
       "      <th></th>\n",
       "      <th>ID</th>\n",
       "      <th>ID_nm</th>\n",
       "      <th>CODE</th>\n",
       "      <th>SD_nm_rev</th>\n",
       "      <th>ADD</th>\n",
       "      <th>SGG_cd_rev</th>\n",
       "      <th>SGG_nm_rev</th>\n",
       "      <th>HEMD_cd</th>\n",
       "      <th>HEMD_cd2</th>\n",
       "      <th>HEMD_nm</th>\n",
       "      <th>...</th>\n",
       "      <th>yr_2011</th>\n",
       "      <th>yr_2012</th>\n",
       "      <th>yr_2013</th>\n",
       "      <th>yr_2014</th>\n",
       "      <th>yr_2015</th>\n",
       "      <th>yr_2016</th>\n",
       "      <th>yr_2017</th>\n",
       "      <th>yr_2018</th>\n",
       "      <th>yr_2019</th>\n",
       "      <th>yr_2020</th>\n",
       "    </tr>\n",
       "  </thead>\n",
       "  <tbody>\n",
       "    <tr>\n",
       "      <th>0</th>\n",
       "      <td>111121</td>\n",
       "      <td>NaN</td>\n",
       "      <td>A</td>\n",
       "      <td>서울</td>\n",
       "      <td>서울 중구 덕수궁길 15</td>\n",
       "      <td>11020</td>\n",
       "      <td>중구</td>\n",
       "      <td>1114052000</td>\n",
       "      <td>1102052.0</td>\n",
       "      <td>소공동</td>\n",
       "      <td>...</td>\n",
       "      <td>1</td>\n",
       "      <td>1</td>\n",
       "      <td>1</td>\n",
       "      <td>1</td>\n",
       "      <td>1</td>\n",
       "      <td>1</td>\n",
       "      <td>1</td>\n",
       "      <td>1</td>\n",
       "      <td>1</td>\n",
       "      <td>1</td>\n",
       "    </tr>\n",
       "    <tr>\n",
       "      <th>1</th>\n",
       "      <td>111121</td>\n",
       "      <td>이전</td>\n",
       "      <td>A</td>\n",
       "      <td>서울</td>\n",
       "      <td>서울 중구 정동길 22</td>\n",
       "      <td>11020</td>\n",
       "      <td>중구</td>\n",
       "      <td>1114052000</td>\n",
       "      <td>1102052.0</td>\n",
       "      <td>소공동</td>\n",
       "      <td>...</td>\n",
       "      <td>0</td>\n",
       "      <td>0</td>\n",
       "      <td>0</td>\n",
       "      <td>0</td>\n",
       "      <td>0</td>\n",
       "      <td>0</td>\n",
       "      <td>0</td>\n",
       "      <td>0</td>\n",
       "      <td>0</td>\n",
       "      <td>0</td>\n",
       "    </tr>\n",
       "    <tr>\n",
       "      <th>2</th>\n",
       "      <td>111122</td>\n",
       "      <td>NaN</td>\n",
       "      <td>B</td>\n",
       "      <td>서울</td>\n",
       "      <td>서울 용산구 한강대로 405</td>\n",
       "      <td>11030</td>\n",
       "      <td>용산구</td>\n",
       "      <td>1117053000</td>\n",
       "      <td>1103053.0</td>\n",
       "      <td>남영동</td>\n",
       "      <td>...</td>\n",
       "      <td>1</td>\n",
       "      <td>1</td>\n",
       "      <td>1</td>\n",
       "      <td>1</td>\n",
       "      <td>1</td>\n",
       "      <td>1</td>\n",
       "      <td>1</td>\n",
       "      <td>1</td>\n",
       "      <td>1</td>\n",
       "      <td>1</td>\n",
       "    </tr>\n",
       "    <tr>\n",
       "      <th>3</th>\n",
       "      <td>111123</td>\n",
       "      <td>NaN</td>\n",
       "      <td>A</td>\n",
       "      <td>서울</td>\n",
       "      <td>서울 종로구 종로35가길 19</td>\n",
       "      <td>11010</td>\n",
       "      <td>종로구</td>\n",
       "      <td>1111063000</td>\n",
       "      <td>1101063.0</td>\n",
       "      <td>종로5.6가동</td>\n",
       "      <td>...</td>\n",
       "      <td>1</td>\n",
       "      <td>1</td>\n",
       "      <td>1</td>\n",
       "      <td>1</td>\n",
       "      <td>1</td>\n",
       "      <td>1</td>\n",
       "      <td>1</td>\n",
       "      <td>1</td>\n",
       "      <td>1</td>\n",
       "      <td>1</td>\n",
       "    </tr>\n",
       "    <tr>\n",
       "      <th>4</th>\n",
       "      <td>111123</td>\n",
       "      <td>이전</td>\n",
       "      <td>A</td>\n",
       "      <td>서울</td>\n",
       "      <td>서울 종로구 이화동 149-1</td>\n",
       "      <td>11010</td>\n",
       "      <td>종로구</td>\n",
       "      <td>1111064000</td>\n",
       "      <td>1101064.0</td>\n",
       "      <td>이화동</td>\n",
       "      <td>...</td>\n",
       "      <td>0</td>\n",
       "      <td>0</td>\n",
       "      <td>0</td>\n",
       "      <td>0</td>\n",
       "      <td>0</td>\n",
       "      <td>0</td>\n",
       "      <td>0</td>\n",
       "      <td>0</td>\n",
       "      <td>0</td>\n",
       "      <td>0</td>\n",
       "    </tr>\n",
       "  </tbody>\n",
       "</table>\n",
       "<p>5 rows × 34 columns</p>\n",
       "</div>"
      ],
      "text/plain": [
       "       ID ID_nm CODE SD_nm_rev                ADD  SGG_cd_rev SGG_nm_rev  \\\n",
       "0  111121   NaN    A        서울     서울 중구 덕수궁길 15        11020         중구   \n",
       "1  111121    이전    A        서울       서울 중구 정동길 22       11020         중구   \n",
       "2  111122   NaN    B        서울    서울 용산구 한강대로 405       11030        용산구   \n",
       "3  111123   NaN    A        서울  서울 종로구 종로35가길 19        11010        종로구   \n",
       "4  111123    이전    A        서울  서울 종로구 이화동 149-1        11010        종로구   \n",
       "\n",
       "      HEMD_cd   HEMD_cd2  HEMD_nm  ...  yr_2011 yr_2012  yr_2013  yr_2014  \\\n",
       "0  1114052000  1102052.0      소공동  ...        1       1        1        1   \n",
       "1  1114052000  1102052.0      소공동  ...        0       0        0        0   \n",
       "2  1117053000  1103053.0      남영동  ...        1       1        1        1   \n",
       "3  1111063000  1101063.0  종로5.6가동  ...        1       1        1        1   \n",
       "4  1111064000  1101064.0      이화동  ...        0       0        0        0   \n",
       "\n",
       "   yr_2015  yr_2016  yr_2017  yr_2018  yr_2019  yr_2020  \n",
       "0        1        1        1        1        1        1  \n",
       "1        0        0        0        0        0        0  \n",
       "2        1        1        1        1        1        1  \n",
       "3        1        1        1        1        1        1  \n",
       "4        0        0        0        0        0        0  \n",
       "\n",
       "[5 rows x 34 columns]"
      ]
     },
     "execution_count": 7,
     "metadata": {},
     "output_type": "execute_result"
    }
   ],
   "source": [
    "df.head()"
   ]
  },
  {
   "cell_type": "markdown",
   "metadata": {},
   "source": [
    "Declare a basic data model as a dictionary"
   ]
  },
  {
   "cell_type": "code",
   "execution_count": 8,
   "metadata": {},
   "outputs": [],
   "source": [
    "site = {\n",
    "    'id': None,\n",
    "    'site_id': 'ID',\n",
    "    'station_cd': 'CODE',\n",
    "    'address': 'ADD',\n",
    "    'adm_cd': 'SGG_cd_rev',\n",
    "    'adm_nm': 'SGG_nm_rev',\n",
    "    'hadm_cd': 'HEMD_cd',\n",
    "    'hadm_nm': 'HEMD_nm',\n",
    "    'badm_cd': 'BEMD_cd',\n",
    "    'badm_nm': 'BEMD_nm',\n",
    "    'wgs_x': 'WGS_X_rev',\n",
    "    'wgs_y': 'WGS_Y_rev',\n",
    "    'year': None,\n",
    "}\n"
   ]
  },
  {
   "cell_type": "code",
   "execution_count": 9,
   "metadata": {},
   "outputs": [
    {
     "data": {
      "text/plain": [
       "Index(['ID', 'ID_nm', 'CODE', 'SD_nm_rev', 'ADD', 'SGG_cd_rev', 'SGG_nm_rev',\n",
       "       'HEMD_cd', 'HEMD_cd2', 'HEMD_nm', 'BEMD_cd', 'BEMD_nm', 'WGS_X_rev',\n",
       "       'WGS_Y_rev', 'yr_2001', 'yr_2002', 'yr_2003', 'yr_2004', 'yr_2005',\n",
       "       'yr_2006', 'yr_2007', 'yr_2008', 'yr_2009', 'yr_2010', 'yr_2011',\n",
       "       'yr_2012', 'yr_2013', 'yr_2014', 'yr_2015', 'yr_2016', 'yr_2017',\n",
       "       'yr_2018', 'yr_2019', 'yr_2020'],\n",
       "      dtype='object')"
      ]
     },
     "execution_count": 9,
     "metadata": {},
     "output_type": "execute_result"
    }
   ],
   "source": [
    "df.columns"
   ]
  },
  {
   "cell_type": "code",
   "execution_count": 10,
   "metadata": {},
   "outputs": [],
   "source": [
    "year_columns = ['yr_2001', 'yr_2002', 'yr_2003', 'yr_2004', 'yr_2005',\n",
    "       'yr_2006', 'yr_2007', 'yr_2008', 'yr_2009', 'yr_2010', 'yr_2011',\n",
    "       'yr_2012', 'yr_2013', 'yr_2014', 'yr_2015', 'yr_2016', 'yr_2017',\n",
    "       'yr_2018', 'yr_2019', 'yr_2020']"
   ]
  },
  {
   "cell_type": "code",
   "execution_count": 32,
   "metadata": {},
   "outputs": [],
   "source": [
    "result = []\n",
    "for d in listOfDict:\n",
    "    for y in year_columns:\n",
    "        record = {}\n",
    "        record['site_id'] = d.get('ID')\n",
    "        record['station_cd']= d.get('CODE')\n",
    "        record['address']= d.get('ADD')\n",
    "        record['adm_cd']= d.get('SGG_cd_rev')\n",
    "        record['adm_nm']= d.get('SGG_nm_rev')\n",
    "        record['hadm_cd']= d.get('HEMD_cd')\n",
    "        record['hadm_nm']= d.get('HEMD_nm')\n",
    "        record['badm_cd']= d.get('BEMD_cd')\n",
    "        record['badm_nm']= d.get('BEMD_nm')\n",
    "        record['wgs_x']= d.get('WGS_X_rev')\n",
    "        record['wgs_y']= d.get('WGS_Y_rev')\n",
    "        record['year']= y.split(\"_\")[1]\n",
    "        result.append(record)"
   ]
  },
  {
   "cell_type": "code",
   "execution_count": 36,
   "metadata": {},
   "outputs": [],
   "source": [
    "pd.DataFrame(result).to_csv('./raw/long.csv')"
   ]
  },
  {
   "cell_type": "code",
   "execution_count": null,
   "metadata": {},
   "outputs": [],
   "source": []
  }
 ],
 "metadata": {
  "interpreter": {
   "hash": "e0c76eec9664882e705f9572389b45e8ff207c2e2ce6f55f984d753dccd4e7be"
  },
  "kernelspec": {
   "display_name": "Python 3.9.9 ('geo')",
   "language": "python",
   "name": "python3"
  },
  "language_info": {
   "codemirror_mode": {
    "name": "ipython",
    "version": 3
   },
   "file_extension": ".py",
   "mimetype": "text/x-python",
   "name": "python",
   "nbconvert_exporter": "python",
   "pygments_lexer": "ipython3",
   "version": "3.9.9"
  },
  "orig_nbformat": 4
 },
 "nbformat": 4,
 "nbformat_minor": 2
}
